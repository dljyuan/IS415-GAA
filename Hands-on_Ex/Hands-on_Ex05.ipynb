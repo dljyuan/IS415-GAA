{
  "cells": [
    {
      "cell_type": "raw",
      "metadata": {},
      "source": [
        "---\n",
        "title: \"Hands-on Exercise 05: Spatial Weights and Applications\"\n",
        "author: \"Jin Yuan\"\n",
        "date: 01/22/2024\n",
        "date-modified: \"last-modified\"\n",
        "date-format: \"DD/MM/YYYY\"\n",
        "editor: visual\n",
        "categories:\n",
        "  - Hands-on Exercise\n",
        "title-block-categories: True\n",
        "---"
      ],
      "id": "310835e6"
    },
    {
      "cell_type": "markdown",
      "metadata": {},
      "source": [
        "# Overview\n",
        "\n",
        "In this hands-on exercise, you will learn how to compute spatial weights using R. By the end to this hands-on exercise, you will be able to:\n",
        "\n",
        "import geospatial data using appropriate function(s) of **sf** package, import csv file using appropriate function of **readr** package, perform relational join using appropriate join function of **dplyr** package, compute spatial weights using appropriate functions of **spdep** package, and calculate spatially lagged variables using appropriate functions of **spdep** package.\n",
        "\n",
        "# Getting Started\n",
        "\n",
        "The following datasets are used:\n",
        "\n",
        "\n",
        "```{table}\n",
        "  Dataset Name  | Source\n",
        "  ------|-----\n",
        "  *Hunan (Hunan.shp)*  |  Prof Kam  \n",
        "  *Hunan 2012 (Hunan-2012.csv)* | Prof Kam\n"
      ],
      "id": "2cbd775c"
    }
  ],
  "metadata": {
    "kernelspec": {
      "name": "py38",
      "language": "python",
      "display_name": "py38"
    }
  },
  "nbformat": 4,
  "nbformat_minor": 5
}